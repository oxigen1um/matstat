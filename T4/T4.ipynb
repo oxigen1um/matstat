{
 "cells": [
  {
   "cell_type": "markdown",
   "metadata": {},
   "source": [
    "# Задача Т4"
   ]
  },
  {
   "cell_type": "code",
   "execution_count": 19,
   "metadata": {},
   "outputs": [],
   "source": [
    "import numpy as np\n",
    "import matplotlib.pyplot as plt"
   ]
  },
  {
   "cell_type": "markdown",
   "metadata": {},
   "source": [
    "### Параметры задачи"
   ]
  },
  {
   "cell_type": "code",
   "execution_count": 20,
   "metadata": {},
   "outputs": [],
   "source": [
    "n = 100\n",
    "theta = 50\n",
    "beta = 0.95"
   ]
  },
  {
   "cell_type": "markdown",
   "metadata": {},
   "source": [
    "### Генерация выборки"
   ]
  },
  {
   "cell_type": "code",
   "execution_count": 76,
   "metadata": {},
   "outputs": [
    {
     "name": "stdout",
     "output_type": "stream",
     "text": [
      "[92.60978187672798, 88.15003404526675, 79.61294021997112, 65.33897757821197, 77.5504306113442, 78.46641530310612, 89.84788982762005, 77.91131042099202, 72.33654118986188, 97.26434785720164, 98.56449336670376, 57.047955412206505, 88.3307752137967, 85.70633456594304, 65.3195178374247, 93.00258962433495, 55.36443550350845, 79.5347807938485, 97.08556736566084, 76.27565224468535, 63.0471942063309, 95.34675697201627, 95.6710077959123, 69.74691730665123, 99.59843617771912, 57.68828670822826, 59.446160329853384, 75.4720628555211, 98.44224787392854, 72.34110906485604, 53.73575514722094, 98.32702391693259, 63.52127961438015, 74.92815063100198, 82.07626484956748, 94.35053611490073, 67.07699460910257, 65.30495499105068, 79.19147086030645, 81.7435596296814, 57.384178348043406, 84.78982406171349, 80.36322638397586, 82.6245586356554, 82.86030782689619, 84.98088098023501, 67.04625456801, 59.91135539997238, 76.1541800450697, 69.90739613049823, 62.857533264262756, 72.84504975328261, 81.68954737262526, 71.73473402312108, 63.50115180462178, 79.1755843311582, 92.63209560392801, 61.64105074235421, 91.38573840280618, 83.673061356707, 75.93031705934445, 71.44403393035567, 76.7365475669927, 54.81097833442931, 91.12772383960248, 81.12616467371824, 66.38592036885652, 86.63528085513465, 63.27023781429973, 95.87029511705188, 76.20345273104397, 92.69528185007435, 64.25541440238544, 74.3740040879743, 93.24997794369237, 52.940354625424455, 84.46623620100135, 88.16879370168789, 64.35067199942422, 82.06821910345228, 54.22998171985088, 63.57704690161768, 94.24138962994198, 96.35881698979111, 53.7858417901878, 76.61740413976621, 87.68091331785602, 88.55434776361321, 92.10827779428172, 50.31126792638149, 57.281766875918635, 83.31372466072338, 80.70316191864735, 72.13177490466433, 91.04953789082361, 65.25203076959485, 89.91082010731218, 64.9042401818126, 96.86461195096868, 82.81491983331509]\n"
     ]
    }
   ],
   "source": [
    "# разыгрываем случайную равномерно распределенную на [0,1] величину \n",
    "s = np.random.uniform(0,1,n)\n",
    "\n",
    "\n",
    "def inverse_f(y):\n",
    "    return (y * theta) + theta\n",
    "\n",
    "sample = [inverse_f(i) for i in s]\n",
    "print(sample)"
   ]
  },
  {
   "cell_type": "markdown",
   "metadata": {},
   "source": [
    "### Точный доверительный интервал"
   ]
  },
  {
   "cell_type": "code",
   "execution_count": 62,
   "metadata": {},
   "outputs": [
    {
     "name": "stdout",
     "output_type": "stream",
     "text": [
      "49.726749390754634  < ϴ <  50.63741517698968\n"
     ]
    }
   ],
   "source": [
    "x_max = np.max(sample)\n",
    "\n",
    "f1_exact = x_max / (1 + (1/2 + beta/2)**(1/n))\n",
    "f2_exact = x_max / (1 + (1/2 - beta/2)**(1/n))\n",
    "\n",
    "print(f1_exact, \" < \\u03F4 < \", f2_exact)"
   ]
  },
  {
   "cell_type": "markdown",
   "metadata": {},
   "source": [
    "### Ассимптотический: ОММ"
   ]
  },
  {
   "cell_type": "code",
   "execution_count": 63,
   "metadata": {},
   "outputs": [
    {
     "name": "stdout",
     "output_type": "stream",
     "text": [
      "48.436941419332754  < ϴ <  52.13985706443887\n"
     ]
    }
   ],
   "source": [
    "# 1 и 2 моменты\n",
    "moment_1 = np.mean(sample)\n",
    "moment_2 = 0\n",
    "\n",
    "for i in range (0, n):\n",
    "    moment_2 += 1/n*(sample[i])**2\n",
    "    \n",
    "f1_omm = ((-1.96 * (2/3) * (moment_2 - moment_1 ** 2) ** (1/2)) / n**(1/2)) + (2/3) * moment_1\n",
    "f2_omm = ((1.96 * (2/3) * (moment_2 - moment_1 ** 2) ** (1/2)) / n**(1/2)) + (2/3) * moment_1\n",
    "\n",
    "print(f1_omm, \" < \\u03F4 < \", f2_omm)"
   ]
  },
  {
   "cell_type": "markdown",
   "metadata": {},
   "source": [
    "### Bootstrap (непараметрический) - используем только выборку"
   ]
  },
  {
   "cell_type": "markdown",
   "metadata": {},
   "source": [
    "####  Используем самую эффективную оценку θ_3 "
   ]
  },
  {
   "cell_type": "code",
   "execution_count": 64,
   "metadata": {},
   "outputs": [
    {
     "name": "stdout",
     "output_type": "stream",
     "text": [
      "Тета с волной:  49.866039557055714\n",
      "49.65987384384112  < ϴ <  51.367945403485066\n"
     ]
    }
   ],
   "source": [
    "# делаем 1000 подвыборок объема n с повторениями по исходной выборке\n",
    "\n",
    "N = 1000\n",
    "\n",
    "deltas = []\n",
    "original_theta = 1/5 * (np.min(sample) + 2*np.max(sample))\n",
    "print(\"Тета с волной: \", original_theta)\n",
    "\n",
    "for i in range(N):\n",
    "    # генерируем массив индексов\n",
    "    tmp_sample = []\n",
    "    sample_indeces = np.random.randint(0, n, n);\n",
    "    \n",
    "    for j in range(n):\n",
    "        tmp_sample.append(sample[sample_indeces[j]])\n",
    "    \n",
    "    tmp_theta = 1/5 * (np.min(tmp_sample) + 2*np.max(tmp_sample))\n",
    "    deltas.append(tmp_theta - original_theta)\n",
    "\n",
    "# вариационный ряд из дельт\n",
    "deltas.sort()\n",
    "    \n",
    "# квантили\n",
    "k1 = int((1/2 - beta/2) * N)\n",
    "k2 = int((1/2 + beta/2) * N)\n",
    "\n",
    "f1_bootstrap = original_theta - deltas[k1 - 1]\n",
    "f2_bootstrap = original_theta - deltas[k2 - 1]\n",
    "\n",
    "print(f2_bootstrap, \" < \\u03F4 < \", f1_bootstrap)\n"
   ]
  },
  {
   "cell_type": "markdown",
   "metadata": {},
   "source": [
    "### Сравнение интервалов"
   ]
  },
  {
   "cell_type": "code",
   "execution_count": 87,
   "metadata": {},
   "outputs": [
    {
     "data": {
      "image/png": "[encoded data removed]",
      "text/plain": [
       "<Figure size 1152x576 with 1 Axes>"
      ]
     },
     "metadata": {
      "needs_background": "light"
     },
     "output_type": "display_data"
    }
   ],
   "source": [
    "plt.figure(figsize=(16, 8))\n",
    "\n",
    "plt.plot([f1_exact, f2_exact], [3, 3], label = \"precise\")\n",
    "plt.plot([f1_omm, f2_omm], [2, 2], label = \"omm\")\n",
    "plt.plot([f1_bootstrap, f2_bootstrap], [0, 0], label = \"bootstrap\")\n",
    "plt.plot([theta, theta], [0, 3], color = \"red\", label = \"real theta\")\n",
    "\n",
    "plt.legend(prop={'size': 16})\n",
    "plt.show()"
   ]
  },
  {
   "cell_type": "markdown",
   "metadata": {},
   "source": [
    "Точный метод постоения доверительного интервала - самый точный :)"
   ]
  }
 ],
 "metadata": {
  "kernelspec": {
   "display_name": "Python 3",
   "language": "python",
   "name": "python3"
  },
  "language_info": {
   "codemirror_mode": {
    "name": "ipython",
    "version": 3
   },
   "file_extension": ".py",
   "mimetype": "text/x-python",
   "name": "python",
   "nbconvert_exporter": "python",
   "pygments_lexer": "ipython3",
   "version": "3.8.1"
  }
 },
 "nbformat": 4,
 "nbformat_minor": 4
}
