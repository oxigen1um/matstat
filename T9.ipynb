{
 "cells": [
  {
   "cell_type": "code",
   "execution_count": 122,
   "metadata": {},
   "outputs": [],
   "source": [
    "import numpy as np\n",
    "import matplotlib.pyplot as plt\n",
    "from scipy.integrate import quad\n",
    "import math"
   ]
  },
  {
   "cell_type": "markdown",
   "metadata": {},
   "source": [
    "## Пункт A:"
   ]
  },
  {
   "cell_type": "markdown",
   "metadata": {},
   "source": [
    "### Интеграл для p-value (Критерий Пирсона)"
   ]
  },
  {
   "cell_type": "code",
   "execution_count": 48,
   "metadata": {},
   "outputs": [
    {
     "name": "stdout",
     "output_type": "stream",
     "text": [
      "p-value integral I = 0.059\n"
     ]
    }
   ],
   "source": [
    "f = lambda x: (1/2) ** (9/2) * (16 / (105 * np.sqrt(np.pi))) * (x ** (7/2)) * np.exp(-x/2)\n",
    "\n",
    "I = quad(f, 16.4, np.inf)[0]\n",
    "print(f'p-value integral I = {I:.3f}')"
   ]
  },
  {
   "cell_type": "markdown",
   "metadata": {},
   "source": [
    "### Проверка по критерию Колмогорова"
   ]
  },
  {
   "cell_type": "markdown",
   "metadata": {},
   "source": [
    "#### Построим эмпирическую функцию распределения"
   ]
  },
  {
   "cell_type": "code",
   "execution_count": 138,
   "metadata": {},
   "outputs": [
    {
     "name": "stdout",
     "output_type": "stream",
     "text": [
      "[ 0.  1.  2.  3.  4.  5.  6.  7.  8.  9. 10.]\n",
      "[0, 0.05, 0.13, 0.19, 0.31, 0.45, 0.63, 0.74, 0.8, 0.93, 1.0]\n"
     ]
    },
    {
     "data": {
      "image/png": "[encoded data removed]",
      "text/plain": [
       "<Figure size 432x288 with 1 Axes>"
      ]
     },
     "metadata": {
      "needs_background": "light"
     },
     "output_type": "display_data"
    }
   ],
   "source": [
    "n = 100\n",
    "x = np.arange(0, 10.5, 1)\n",
    "print(x)\n",
    "y = [5, 8, 6, 12, 14, 18, 11, 6, 13, 7]\n",
    "y_full = []\n",
    "for i in range(len(y)):\n",
    "    for j in range(y[i]):\n",
    "        y_full.append(i)\n",
    "\n",
    "def f(x):\n",
    "    return (x / 10) + 0.05\n",
    "\n",
    "cumulative_y = [0]\n",
    "\n",
    "for i in range(len(y)):\n",
    "    cumulative_y.append(cumulative_y[-1] + y[i] / n)\n",
    "    \n",
    "plt.step(x, cumulative_y, label='Empirical distribution function')\n",
    "plt.plot(f(np.arange(0, 10.5, 1)), label='Uniform distribution function')\n",
    "plt.legend()\n",
    "\n",
    "print(cumulative_y)"
   ]
  },
  {
   "cell_type": "code",
   "execution_count": 50,
   "metadata": {},
   "outputs": [
    {
     "name": "stdout",
     "output_type": "stream",
     "text": [
      "Дельта с волной: 1.5999999999999996\n"
     ]
    }
   ],
   "source": [
    "delta = np.sqrt(n) * np.max([np.max([abs(cumulative_y[i] - f(x[i])), abs(cumulative_y[i] - f(x[i])) ]) for i in range(len(x) - 1)])\n",
    "\n",
    "print(f'Дельта с волной: {delta}')\n"
   ]
  },
  {
   "cell_type": "code",
   "execution_count": 51,
   "metadata": {},
   "outputs": [],
   "source": [
    "k = 100\n",
    "kolmog_sum = 0\n",
    "\n",
    "for i in range(1, k + 1):\n",
    "    kolmog_sum += (-1) ** i * np.exp(-2 * i ** (2) * delta ** 2)\n",
    "\n",
    "kolmog_sum = 1 + 2 * kolmog_sum\n"
   ]
  },
  {
   "cell_type": "code",
   "execution_count": 52,
   "metadata": {},
   "outputs": [
    {
     "name": "stdout",
     "output_type": "stream",
     "text": [
      "p-value = 0.01195204323919663\n"
     ]
    }
   ],
   "source": [
    "p_val = 1 - kolmog_sum\n",
    "print(f'p-value = {p_val}')"
   ]
  },
  {
   "cell_type": "markdown",
   "metadata": {},
   "source": [
    "## Пункт B:"
   ]
  },
  {
   "cell_type": "markdown",
   "metadata": {},
   "source": [
    "### Численное нахождение $\\theta_1$ и $\\theta_2$ из метода максимального правдоподобия"
   ]
  },
  {
   "cell_type": "code",
   "execution_count": 53,
   "metadata": {},
   "outputs": [
    {
     "name": "stdout",
     "output_type": "stream",
     "text": [
      "Theta 1 = 4.788944723618091, Theta 2 = 2.6884422110552766\n"
     ]
    }
   ],
   "source": [
    "def p(x, theta_1, theta_2, left, right):\n",
    "    return 1/(theta_2 * (2* np.pi)**0.5) * (quad(lambda x: np.exp(-0.5*((x-theta_1)/theta_2)**2), left, right)[0])\n",
    "\n",
    "# Функция правдоподобия\n",
    "def L(theta_1, theta_2):\n",
    "    p0 = p(0, theta_1, theta_2, -np.inf, 0.5)\n",
    "    p1 = p(1, theta_1, theta_2, 0.5, 1.5)\n",
    "    p2 = p(2, theta_1, theta_2, 1.5, 2.5)\n",
    "    p3 = p(3, theta_1, theta_2, 2.5, 3.5)            \n",
    "    p4 = p(4, theta_1, theta_2, 3.5, 4.5)\n",
    "    p5 = p(5, theta_1, theta_2, 4.5, 5.5)\n",
    "    p6 = p(6, theta_1, theta_2, 5.5, 6.5)\n",
    "    p7 = p(7, theta_1, theta_2, 6.5, 7.5)\n",
    "    p8 = p(8, theta_1, theta_2, 7.5, 8.5)\n",
    "    p9 = p(9, theta_1, theta_2, 8.5, np.inf)  \n",
    "                \n",
    "    return p0**5 * p1**8 * p2**6 * p3**12 * p4**14 * p5**18 * p6**11 * p7**6 * p8**13 * p9**7    \n",
    "\n",
    "t1 = t2 = m = L_val = 0\n",
    "# Численно максимизируем функцию правдоподобия\n",
    "for theta_1 in np.linspace(2, 5, 200):\n",
    "    for theta_2 in np.linspace(1, 5, 200):\n",
    "        L_val = L(theta_1, theta_2)\n",
    "        if (m < L_val):\n",
    "            m = L_val\n",
    "            t1 = theta_1\n",
    "            t2 = theta_2\n",
    "print(f'Theta 1 = {t1}, Theta 2 = {t2}')"
   ]
  },
  {
   "cell_type": "code",
   "execution_count": 74,
   "metadata": {},
   "outputs": [
    {
     "name": "stdout",
     "output_type": "stream",
     "text": [
      "Дельта с волной = 9.799176506179462 (мера отклонения)\n"
     ]
    }
   ],
   "source": [
    "delta = 0\n",
    "ps = []\n",
    "ps.append(p(0, t1, t2, -np.inf, 0.5))\n",
    "ps.append(p(1, t1, t2, 0.5, 1.5))\n",
    "ps.append(p(2, t1, t2, 1.5, 2.5))\n",
    "ps.append(p(3, t1, t2, 2.5, 3.5))           \n",
    "ps.append(p(4, t1, t2, 3.5, 4.5))\n",
    "ps.append(p(5, t1, t2, 4.5, 5.5))\n",
    "ps.append(p(6, t1, t2, 5.5, 6.5))\n",
    "ps.append(p(7, t1, t2, 6.5, 7.5))\n",
    "ps.append(p(8, t1, t2, 7.5, 8.5))\n",
    "ps.append(p(9, t1, t2, 8.5, np.inf)) \n",
    "\n",
    "for i in range(10):\n",
    "    delta += ((y[i] - n * ps[i])**2) / (n * ps[i])\n",
    "\n",
    "print(f'Дельта с волной = {delta} (мера отклонения)')"
   ]
  },
  {
   "cell_type": "code",
   "execution_count": 55,
   "metadata": {},
   "outputs": [
    {
     "name": "stdout",
     "output_type": "stream",
     "text": [
      "p-value = 0.11297471903896593\n"
     ]
    }
   ],
   "source": [
    "f = lambda x: 0.5**(7/2)/((15 * np.pi) / 8)*np.exp(-x/2)*x**(5/2)\n",
    "p_value = quad(f, delta, np.inf)[0]\n",
    "print(f'p-value = {p_value}')"
   ]
  },
  {
   "cell_type": "markdown",
   "metadata": {},
   "source": [
    "### А теперь по Колмогорову (параметрический Бутстрап)"
   ]
  },
  {
   "cell_type": "code",
   "execution_count": 165,
   "metadata": {},
   "outputs": [
    {
     "name": "stdout",
     "output_type": "stream",
     "text": [
      "Дельта главной выборки: 1.0133711124224243\n",
      "p-value = 0.83522\n"
     ]
    }
   ],
   "source": [
    "# Подвыборки берутся из модели с оцененными параметрами по методу моментов\n",
    "N = 50000\n",
    "deltas = []\n",
    "    \n",
    "# оценки методом моментов\n",
    "def omm(data):\n",
    "    theta1 = theta2 = 0\n",
    "    for i in range(10):\n",
    "        theta1 += 1/100 * i * data[i]\n",
    "        theta2 += 1/100 * i*i * data[i]\n",
    "    theta2 = (theta2 - theta1**2)**0.5\n",
    "    return (theta1, theta2)\n",
    "\n",
    "def OMM(data):\n",
    "    a1 = sum(data)/len(data)\n",
    "    a2 = 0\n",
    "    for i in range(len(data)):\n",
    "        a2 += data[i]**2\n",
    "    a2 /= len(data)\n",
    "    b = (a2 - a1**2)**0.5\n",
    "    return (a1,b)\n",
    "\n",
    "# параметры главной модели\n",
    "theta_1, theta_2 = omm(y)\n",
    "\n",
    "def get_delta_kolmogorov(data, theta1, theta2):\n",
    "    x_down = []\n",
    "    x_up = []\n",
    "    x_real = []\n",
    "    \n",
    "    ps = [p(0, theta1, theta2, -math.inf, data[0])]\n",
    "    for i in range(1, len(data)):\n",
    "        ps.append(p(0, theta1, theta2, data[i-1], data[i]))\n",
    "        \n",
    "    x_real.append(ps[0])\n",
    "        \n",
    "    for i in range(1, len(data)):\n",
    "        x_real.append(ps[i] + x_real[i-1])\n",
    "    \n",
    "    for i in range(len(data)):\n",
    "        \n",
    "        x_down.append(i*0.01)\n",
    "        x_up.append(i*0.01+0.01)\n",
    "    ret = 0\n",
    "    for i in range(100):\n",
    "        d = max(abs(x_real[i] - x_down[i]), abs(x_real[i]- x_up[i]))\n",
    "        if d > ret:\n",
    "            ret = d\n",
    "    return ret\n",
    "\n",
    "# считаем дельту главной выборки\n",
    "main_delta = 10 * get_delta_kolmogorov(y_full, theta_1, theta_2)\n",
    "print(f'Дельта главной выборки: {main_delta}')\n",
    "\n",
    "# превращаем выборку в дискретную\n",
    "def discr_sample(sample):\n",
    "    for i in range(len(sample)):\n",
    "        if (sample[i] < 0.5): sample[i] = 0\n",
    "        if (sample[i] >= 0.5 and sample[i] < 1.5): sample[i] = 1\n",
    "        if (sample[i] >= 1.5 and sample[i] < 2.5): sample[i] = 2\n",
    "        if (sample[i] >= 2.5 and sample[i] < 3.5): sample[i] = 3\n",
    "        if (sample[i] >= 3.5 and sample[i] < 4.5): sample[i] = 4\n",
    "        if (sample[i] >= 4.5 and sample[i] < 5.5): sample[i] = 5\n",
    "        if (sample[i] >= 5.5 and sample[i] < 6.5): sample[i] = 6\n",
    "        if (sample[i] >= 6.5 and sample[i] < 7.5): sample[i] = 7\n",
    "        if (sample[i] >= 7.5 and sample[i] < 8.5): sample[i] = 8\n",
    "        if (sample[i] >= 8.5): sample[i] = 9\n",
    "    return sample\n",
    "\n",
    "def boot_delta(theta_1, theta_2):\n",
    "    \n",
    "    # генерируем подвыборку из главной модельки\n",
    "    sample = discr_sample(np.random.normal(theta_1, theta_2, 100))\n",
    "    sample.sort()\n",
    "    \n",
    "    \n",
    "\n",
    "    # внутренние оценки параметров\n",
    "    th_1, th_2 = OMM(sample)\n",
    "    \n",
    "    # опеределяем внутреннюю дельту по Колмогорову\n",
    "    curr_delta = 10 * get_delta_kolmogorov(sample, th_1, th_2)\n",
    "    return curr_delta\n",
    "            \n",
    "        \n",
    "# считаем 50000 дельт\n",
    "for i in range(N):\n",
    "    deltas.append(boot_delta(theta_1, theta_2))\n",
    "        \n",
    "\n",
    "deltas = np.sort(deltas)\n",
    "\n",
    "# найдем k\n",
    "k = 0\n",
    "for i  in range(len(deltas) - 1):\n",
    "    if deltas[i] < main_delta and deltas[i+1] >= main_delta:\n",
    "        k = i\n",
    "        break\n",
    "\n",
    "p_val = 1 - k/N\n",
    "print(f'p-value = {p_val}')\n",
    "\n",
    "\n"
   ]
  },
  {
   "cell_type": "markdown",
   "metadata": {},
   "source": [
    "## Пункт С:"
   ]
  },
  {
   "cell_type": "code",
   "execution_count": 117,
   "metadata": {},
   "outputs": [
    {
     "name": "stdout",
     "output_type": "stream",
     "text": [
      "Дельта с волной = 10.798973140499793 (мера отклонения)\n"
     ]
    }
   ],
   "source": [
    "delta = 0\n",
    "ps = []\n",
    "ps.append(p(0, theta_1, theta_2, -np.inf, 0.5))\n",
    "ps.append(p(1, theta_1, theta_2, 0.5, 1.5))\n",
    "ps.append(p(2, theta_1, theta_2, 1.5, 2.5))\n",
    "ps.append(p(3, theta_1, theta_2, 2.5, 3.5))           \n",
    "ps.append(p(4, theta_1, theta_2, 3.5, 4.5))\n",
    "ps.append(p(5, theta_1, theta_2, 4.5, 5.5))\n",
    "ps.append(p(6, theta_1, theta_2, 5.5, 6.5))\n",
    "ps.append(p(7, theta_1, theta_2, 6.5, 7.5))\n",
    "ps.append(p(8, theta_1, theta_2, 7.5, 8.5))\n",
    "ps.append(p(9, theta_1, theta_2, 8.5, np.inf)) \n",
    "\n",
    "for i in range(10):\n",
    "    delta += ((y[i] - n * ps[i])**2) / (n * ps[i])\n",
    "\n",
    "print(f'Дельта с волной = {delta} (мера отклонения)')"
   ]
  },
  {
   "cell_type": "code",
   "execution_count": 121,
   "metadata": {},
   "outputs": [],
   "source": [
    "# распределение критерия найдем бутстрапом\n",
    "\n",
    "deltas = []\n",
    "\n",
    "for i in range(N):\n",
    "    deltas.append(boot_delta(theta_1, theta_2))\n",
    "\n",
    "deltas = np.sort(deltas)"
   ]
  },
  {
   "cell_type": "code",
   "execution_count": 124,
   "metadata": {},
   "outputs": [],
   "source": [
    "x = []\n",
    "y = []\n",
    "for i in range(len(deltas)):\n",
    "    x.append(deltas[i])\n",
    "    y.append(i/N)\n",
    "\n",
    "    \n",
    "def Xi2(k, x):\n",
    "    def f(x):\n",
    "        return 0.5**(k/2)/math.gamma(k/2)*math.exp(-x/2)*x**(k/2-1)\n",
    "    y = []\n",
    "    for el in x:\n",
    "        y.append(quad(f, 0, el)[0])\n",
    "    return y\n",
    "\n",
    "y9 = Xi2(9, x)\n",
    "y7 = Xi2(7, x)"
   ]
  },
  {
   "cell_type": "code",
   "execution_count": 126,
   "metadata": {},
   "outputs": [
    {
     "data": {
      "text/plain": [
       "<matplotlib.legend.Legend at 0x7fadd4567ca0>"
      ]
     },
     "execution_count": 126,
     "metadata": {},
     "output_type": "execute_result"
    },
    {
     "data": {
      "image/png": "[encoded data removed]",
      "text/plain": [
       "<Figure size 1152x648 with 1 Axes>"
      ]
     },
     "metadata": {
      "needs_background": "light"
     },
     "output_type": "display_data"
    }
   ],
   "source": [
    "plt.figure(figsize=(16,9))\n",
    "plt.plot(x, y, label='bootstrapped')\n",
    "plt.plot(x, y7, label = '$\\chi^2(7)$')\n",
    "plt.plot(x, y9, label= '$\\chi^2(9)$')\n",
    "plt.legend(prop={'size': 18})"
   ]
  },
  {
   "cell_type": "code",
   "execution_count": null,
   "metadata": {},
   "outputs": [],
   "source": []
  }
 ],
 "metadata": {
  "kernelspec": {
   "display_name": "Python 3",
   "language": "python",
   "name": "python3"
  },
  "language_info": {
   "codemirror_mode": {
    "name": "ipython",
    "version": 3
   },
   "file_extension": ".py",
   "mimetype": "text/x-python",
   "name": "python",
   "nbconvert_exporter": "python",
   "pygments_lexer": "ipython3",
   "version": "3.8.1"
  }
 },
 "nbformat": 4,
 "nbformat_minor": 4
}
