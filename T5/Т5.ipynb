{
 "cells": [
  {
   "cell_type": "markdown",
   "metadata": {},
   "source": [
    "# Задача Т5"
   ]
  },
  {
   "cell_type": "code",
   "execution_count": 51,
   "metadata": {},
   "outputs": [],
   "source": [
    "import numpy as np\n",
    "import matplotlib.pyplot as plt"
   ]
  },
  {
   "cell_type": "markdown",
   "metadata": {},
   "source": [
    "### Параметры задачи"
   ]
  },
  {
   "cell_type": "code",
   "execution_count": 84,
   "metadata": {},
   "outputs": [],
   "source": [
    "n = 100\n",
    "theta = 5\n",
    "beta = 0.95"
   ]
  },
  {
   "cell_type": "markdown",
   "metadata": {},
   "source": [
    "### Генерируем выборку"
   ]
  },
  {
   "cell_type": "code",
   "execution_count": 85,
   "metadata": {},
   "outputs": [
    {
     "name": "stdout",
     "output_type": "stream",
     "text": [
      "[1.1763211667835909, 1.04941902283234, 1.2249819440181597, 1.003217521065965, 1.1145700532007619, 1.0330040343920208, 1.2648817369958105, 1.0814628364446108, 2.2346868953116337, 1.3059564141041793, 1.0056375486231193, 1.2221049223859546, 1.2184215065514195, 1.2787941207531988, 1.0655106915454844, 2.328588548383462, 1.1839949657151423, 1.0842323993507939, 1.1997861287124463, 1.2095695915925049, 2.0221069844414603, 1.1702374554614148, 1.2239840363592316, 1.803890213819729, 1.2575015609859446, 1.5187779290044585, 1.1457106799323096, 1.1744774265694142, 1.115125961994659, 1.1668575021345524, 1.35750990615776, 1.1386826316119292, 1.2822390697012378, 1.1918433385394864, 1.0859393196818092, 1.254608459491699, 1.238392064150629, 1.3915573451678602, 1.932229142539752, 2.0590354055244666, 1.707794128394752, 1.8558096217090425, 1.0371531399555594, 1.3205151749735269, 1.718827870414276, 1.119070943776751, 1.292565936626931, 1.0975684919225976, 1.0612706544264439, 1.2343022765725136, 1.0034370163098372, 1.3429758765630477, 1.0092560682937848, 1.07846993812318, 1.2033639495747996, 1.0080508596665485, 1.0535710636252547, 1.1203757297081947, 1.8600262753508157, 1.0669798556570154, 1.4205622880806899, 1.066439672521936, 1.5627572212463026, 1.2359845885409715, 1.187091050953715, 1.1769120532606658, 1.029543446374538, 2.3415141536419473, 1.0511168111947544, 1.10539312316082, 1.2665471828330201, 1.1348260463389817, 1.0547069981511397, 1.956990815823039, 2.1885225845200615, 1.0392058408196636, 1.0390916824788134, 1.4776462111560689, 1.0626194534564166, 1.0686475905408872, 1.2618632396675042, 1.0746869704902215, 1.702219988978117, 1.129927860758539, 1.154944437096748, 1.1651454270440793, 1.5669222559271438, 1.1983435685618222, 2.852919094789437, 1.0266038863283018, 1.0469350195658662, 1.3994948301375765, 1.0968185625383446, 1.7079304986485018, 2.297820003396604, 1.2153291119983118, 1.0496359715413608, 1.0224032404446532, 1.0891575957174475, 1.0444195668122176]\n"
     ]
    }
   ],
   "source": [
    "# разыгрываем случайную равномерно распределенную на [0,1] величину \n",
    "s = np.random.uniform(0,1,n)\n",
    "\n",
    "\n",
    "def inverse_f(x):\n",
    "    return (1 - x)**(1 / (1-theta))\n",
    "\n",
    "sample = [inverse_f(i) for i in s]\n",
    "print(sample)"
   ]
  },
  {
   "cell_type": "markdown",
   "metadata": {},
   "source": [
    "### Доверительный интервал по ОМП"
   ]
  },
  {
   "cell_type": "code",
   "execution_count": 86,
   "metadata": {},
   "outputs": [
    {
     "name": "stdout",
     "output_type": "stream",
     "text": [
      "оценка тета по ОМП: 5.107440256125586\n"
     ]
    }
   ],
   "source": [
    "theta_est = n / (np.sum(np.log(sample))) + 1\n",
    "print(f'оценка тета по ОМП: {theta_est}')"
   ]
  },
  {
   "cell_type": "code",
   "execution_count": 87,
   "metadata": {},
   "outputs": [
    {
     "name": "stdout",
     "output_type": "stream",
     "text": [
      "4.302381965924972  < ϴ <  5.9124985463262005\n"
     ]
    }
   ],
   "source": [
    "f1_omm =  (1.96*(theta_est-1)/n**0.5) + theta_est\n",
    "f2_omm = - (1.96*(theta_est-1)/n**0.5) + theta_est\n",
    "print(f2_omm, \" < \\u03F4 < \", f1_omm)"
   ]
  },
  {
   "cell_type": "markdown",
   "metadata": {},
   "source": [
    "### Bootstrap (непараметрический) - используем только выборку"
   ]
  },
  {
   "cell_type": "code",
   "execution_count": 89,
   "metadata": {},
   "outputs": [
    {
     "name": "stdout",
     "output_type": "stream",
     "text": [
      "4.153135516682557  < ϴ <  5.824173623918963\n"
     ]
    }
   ],
   "source": [
    "# делаем 1000 подвыборок объема n с возвращениями по исходной выборке\n",
    "\n",
    "N = 1000\n",
    "\n",
    "deltas = []\n",
    "\n",
    "for i in range(N):\n",
    "    # генерируем массив индексов\n",
    "    tmp_sample = []\n",
    "    sample_indeces = np.random.randint(0, n, n);\n",
    "    \n",
    "    for j in range(n):\n",
    "        tmp_sample.append(sample[sample_indeces[j]])\n",
    "    \n",
    "    tmp_theta = n / (np.sum(np.log(tmp_sample))) + 1\n",
    "    deltas.append(tmp_theta - theta_est)\n",
    "\n",
    "# вариационный ряд из дельт\n",
    "deltas.sort()\n",
    "    \n",
    "# квантили\n",
    "k1 = int((1/2 - beta/2) * N)\n",
    "k2 = int((1/2 + beta/2) * N)\n",
    "\n",
    "f1_bootstrap = theta_est - deltas[k1 - 1]\n",
    "f2_bootstrap = theta_est - deltas[k2 - 1]\n",
    "\n",
    "print(f2_bootstrap, \" < \\u03F4 < \", f1_bootstrap)\n"
   ]
  },
  {
   "cell_type": "markdown",
   "metadata": {},
   "source": [
    "### Bootstrap (параметрический) - используем модель"
   ]
  },
  {
   "cell_type": "code",
   "execution_count": 96,
   "metadata": {},
   "outputs": [
    {
     "name": "stdout",
     "output_type": "stream",
     "text": [
      "4.300789407150378  < ϴ <  5.897233435559383\n"
     ]
    }
   ],
   "source": [
    "# делаем 50000 подвыборок объема n по вероятностой модели\n",
    "N = 50000\n",
    "\n",
    "theta_est = n/np.sum(np.log(sample)) + 1\n",
    "param_deltas = []\n",
    "\n",
    "for i in range(N):\n",
    "    s = np.random.uniform(0,1,n)\n",
    "    tmp_sample = [inverse_f(i) for i in s]\n",
    "    \n",
    "    tmp_theta_est = n/np.sum(np.log(tmp_sample)) + 1\n",
    "    param_deltas.append(tmp_theta_est - theta_est)\n",
    "\n",
    "# вариационный ряд из дельт\n",
    "param_deltas.sort()\n",
    "\n",
    "# квантили\n",
    "k1 = int((1/2 - beta/2) * N)\n",
    "k2 = int((1/2 + beta/2) * N)\n",
    "\n",
    "f1_pb = theta_est - param_deltas[k1 - 1]\n",
    "f2_pb = theta_est - param_deltas[k2 - 1]\n",
    "\n",
    "print(f2_pb, \" < \\u03F4 < \", f1_pb)"
   ]
  },
  {
   "cell_type": "code",
   "execution_count": 97,
   "metadata": {},
   "outputs": [
    {
     "data": {
      "image/png": "[encoded data removed]",
      "text/plain": [
       "<Figure size 1152x576 with 1 Axes>"
      ]
     },
     "metadata": {
      "needs_background": "light"
     },
     "output_type": "display_data"
    }
   ],
   "source": [
    "plt.figure(figsize=(16, 8))\n",
    "\n",
    "plt.plot([f1_omm, f2_omm], [2, 2], label = \"omm\")\n",
    "plt.plot([f1_bootstrap, f2_bootstrap], [0, 0], label = \"bootstrap\")\n",
    "plt.plot([f1_pb, f2_pb], [3, 3], label = \"param bootstrap\")\n",
    "plt.plot([theta, theta], [0, 3], color = \"red\", label = \"real theta\")\n",
    "\n",
    "plt.legend(prop={'size': 16})\n",
    "plt.show()"
   ]
  }
 ],
 "metadata": {
  "kernelspec": {
   "display_name": "Python 3",
   "language": "python",
   "name": "python3"
  },
  "language_info": {
   "codemirror_mode": {
    "name": "ipython",
    "version": 3
   },
   "file_extension": ".py",
   "mimetype": "text/x-python",
   "name": "python",
   "nbconvert_exporter": "python",
   "pygments_lexer": "ipython3",
   "version": "3.8.1"
  }
 },
 "nbformat": 4,
 "nbformat_minor": 4
}
